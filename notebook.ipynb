{
 "cells": [
  {
   "cell_type": "code",
   "execution_count": 1,
   "metadata": {
    "metadata": {}
   },
   "outputs": [],
   "source": [
    "import pandas as pd\n",
    "import plotly.express as px\n",
    "import convertePlanilha"
   ]
  },
  {
   "cell_type": "code",
   "execution_count": 5,
   "metadata": {},
   "outputs": [],
   "source": [
    "# Faz leitura do arquivo excel a partir de um caminho relativo\n",
    "df = pd.read_excel(r'dataset\\\\2024-05-09-emeronweb.xls')\n",
    "\n",
    "df_clean = convertePlanilha.clean_data(df.copy())"
   ]
  },
  {
   "cell_type": "code",
   "execution_count": 3,
   "metadata": {},
   "outputs": [
    {
     "data": {
      "text/plain": [
       "Index(['Unnamed: 0', 'Situação', 'Área Temática', 'Modalidade',\n",
       "       'Tipo de Atividade', 'Data', 'Atividade', 'Vagas', 'N. Alunos',\n",
       "       'Concluintes', 'Não Concluintes', 'CH', 'Início', 'Fim', 'Local',\n",
       "       'Público', 'Setor', 'Projeto Pedagógico', 'Ano do Projeto Pedagógico',\n",
       "       'dia_inicio', 'mes_inicio', 'ano_inicio', 'dia_fim', 'mes_fim',\n",
       "       'ano_fim'],\n",
       "      dtype='object')"
      ]
     },
     "execution_count": 3,
     "metadata": {},
     "output_type": "execute_result"
    }
   ],
   "source": [
    "df_clean.columns"
   ]
  },
  {
   "cell_type": "code",
   "execution_count": null,
   "metadata": {},
   "outputs": [],
   "source": [
    "df_clean.info()"
   ]
  },
  {
   "cell_type": "markdown",
   "metadata": {},
   "source": [
    "- Cursos por público"
   ]
  },
  {
   "cell_type": "code",
   "execution_count": null,
   "metadata": {},
   "outputs": [],
   "source": [
    "df_clean['Público'].value_counts()"
   ]
  },
  {
   "cell_type": "markdown",
   "metadata": {},
   "source": [
    "- Crio um dataframe para trabalhar especificamente as métricas"
   ]
  },
  {
   "cell_type": "code",
   "execution_count": null,
   "metadata": {},
   "outputs": [],
   "source": [
    "df_metricas = df_clean[['Início','Atividade','Vagas','N. Alunos','Concluintes','Não Concluintes','CH']]\n",
    "\n",
    "df_metricas.head(3)"
   ]
  },
  {
   "cell_type": "code",
   "execution_count": null,
   "metadata": {},
   "outputs": [],
   "source": [
    "df_metricas.drop(columns='CH').value_counts()"
   ]
  },
  {
   "cell_type": "markdown",
   "metadata": {},
   "source": [
    "## Numero de vagas, alunos, concluintes, carga horária"
   ]
  },
  {
   "cell_type": "markdown",
   "metadata": {},
   "source": [
    "### Métricas:\n",
    "- Alunos por vagas (total anual)\n",
    "- Concluintes por não concluintes (total anual)\n",
    "- Vagas abertas por alunos inscritos no mês\n",
    "- Concluintes por não concluintes (por mês de encerramento do curso)\n",
    "- Total de atividades por mês"
   ]
  },
  {
   "cell_type": "code",
   "execution_count": null,
   "metadata": {},
   "outputs": [],
   "source": [
    "df_vagas_alunos_concluintes = df_metricas.drop(columns=['Início', 'Atividade','CH', 'Não Concluintes']).sum()\n",
    "df_vagas_alunos_concluintes"
   ]
  },
  {
   "cell_type": "markdown",
   "metadata": {},
   "source": [
    "- Carga horária total"
   ]
  },
  {
   "cell_type": "code",
   "execution_count": null,
   "metadata": {},
   "outputs": [],
   "source": [
    "df_metricas['CH'].sum()"
   ]
  },
  {
   "cell_type": "markdown",
   "metadata": {},
   "source": [
    "- Total de Atividaes"
   ]
  },
  {
   "cell_type": "code",
   "execution_count": null,
   "metadata": {},
   "outputs": [],
   "source": [
    "df_metricas['Atividade'].count()"
   ]
  },
  {
   "cell_type": "markdown",
   "metadata": {},
   "source": [
    "- Total de atividades por mês"
   ]
  },
  {
   "cell_type": "code",
   "execution_count": null,
   "metadata": {},
   "outputs": [],
   "source": [
    "df_clean.groupby(\"mes_inicio\")[\"Atividade\"].count()"
   ]
  },
  {
   "cell_type": "markdown",
   "metadata": {},
   "source": [
    "- Total de vagas abertas por mês"
   ]
  },
  {
   "cell_type": "code",
   "execution_count": null,
   "metadata": {},
   "outputs": [],
   "source": [
    "df_clean.groupby('mes_inicio')['Vagas'].sum()"
   ]
  },
  {
   "cell_type": "markdown",
   "metadata": {},
   "source": [
    "- Mes que mais encerrou cursos por concluientes"
   ]
  },
  {
   "cell_type": "code",
   "execution_count": null,
   "metadata": {},
   "outputs": [],
   "source": [
    "df_clean.groupby('mes_fim')['Concluintes'].sum()"
   ]
  },
  {
   "cell_type": "code",
   "execution_count": null,
   "metadata": {},
   "outputs": [],
   "source": [
    "### Filtro Aguardando: Vagas, Alunos, Concluintes e Não Concluintes, exceto mês 12\n",
    "df_filtroAguardando = df_clean[['Situação','mes_inicio','mes_fim','Vagas','N. Alunos','Concluintes','Não Concluintes']]\n",
    "\n",
    "df_filtroAguardando = df_filtroAguardando[(df_clean['Situação'] == 'Aguardando') & (df_clean['mes_fim'] < 12)]\n",
    "\n",
    "df_filtroAguardando.sample(3)"
   ]
  },
  {
   "cell_type": "code",
   "execution_count": null,
   "metadata": {},
   "outputs": [],
   "source": [
    "bimestre = df_clean[['Início','Vagas']].groupby(pd.Grouper(key='Início', freq='2MS')).sum()\n",
    "bimestre"
   ]
  },
  {
   "cell_type": "code",
   "execution_count": null,
   "metadata": {},
   "outputs": [],
   "source": [
    "trimestre = df_clean[['Início','Vagas']].groupby(pd.Grouper(key='Início', freq='3MS')).sum()\n",
    "trimestre"
   ]
  },
  {
   "cell_type": "code",
   "execution_count": null,
   "metadata": {},
   "outputs": [],
   "source": [
    "quadrimestre = df_clean[['Início','Vagas']].groupby(pd.Grouper(key='Início', freq='4MS')).sum()\n",
    "quadrimestre"
   ]
  },
  {
   "cell_type": "code",
   "execution_count": null,
   "metadata": {},
   "outputs": [],
   "source": [
    "semestre = df_clean[['Início','Vagas']].groupby(pd.Grouper(key='Início', freq='6MS')).sum()\n",
    "semestre"
   ]
  },
  {
   "cell_type": "markdown",
   "metadata": {},
   "source": [
    "# Gráficos"
   ]
  },
  {
   "cell_type": "markdown",
   "metadata": {},
   "source": [
    "- Número cursos executados por número de cursos aguardando"
   ]
  },
  {
   "cell_type": "code",
   "execution_count": null,
   "metadata": {},
   "outputs": [],
   "source": [
    "df_clean.columns"
   ]
  },
  {
   "cell_type": "code",
   "execution_count": null,
   "metadata": {},
   "outputs": [],
   "source": [
    "df_clean['Situação'].value_counts().reset_index()"
   ]
  }
 ],
 "metadata": {
  "kernelspec": {
   "display_name": "venv",
   "language": "python",
   "name": "python3"
  },
  "language_info": {
   "codemirror_mode": {
    "name": "ipython",
    "version": 3
   },
   "file_extension": ".py",
   "mimetype": "text/x-python",
   "name": "python",
   "nbconvert_exporter": "python",
   "pygments_lexer": "ipython3",
   "version": "3.12.3"
  }
 },
 "nbformat": 4,
 "nbformat_minor": 2
}
